{
 "cells": [
  {
   "outputs": [],
   "cell_type": "code",
   "source": [
    "using BenchmarkTools"
   ],
   "metadata": {},
   "execution_count": null
  },
  {
   "outputs": [],
   "cell_type": "markdown",
   "source": [
    "## Starting a Cluster"
   ],
   "metadata": {}
  },
  {
   "outputs": [],
   "cell_type": "code",
   "source": [
    "using Distributed\n",
    "procs()"
   ],
   "metadata": {},
   "execution_count": null
  },
  {
   "outputs": [],
   "cell_type": "markdown",
   "source": [
    "change to 2 if started julia with -p2"
   ],
   "metadata": {}
  },
  {
   "outputs": [],
   "cell_type": "code",
   "source": [
    "addprocs(4)\n",
    "\n",
    "procs()"
   ],
   "metadata": {},
   "execution_count": null
  },
  {
   "outputs": [],
   "cell_type": "markdown",
   "source": [
    "addprocs([\"10.0.2.1\", \"10.0.2.2\"]) ;"
   ],
   "metadata": {}
  },
  {
   "outputs": [],
   "cell_type": "markdown",
   "source": [
    "## Communication between Julia processes"
   ],
   "metadata": {}
  },
  {
   "outputs": [],
   "cell_type": "code",
   "source": [
    "a = remotecall(sqrt, 2, 4.0)\n",
    "\n",
    "wait(a)\n",
    "\n",
    "fetch(a)\n",
    "\n",
    "remotecall_fetch(sqrt, 2, 4.0)"
   ],
   "metadata": {},
   "execution_count": null
  },
  {
   "outputs": [],
   "cell_type": "markdown",
   "source": [
    "# Programming parallel tasks"
   ],
   "metadata": {}
  },
  {
   "outputs": [],
   "cell_type": "code",
   "source": [
    "using Pkg\n",
    "Pkg.add(\"Distributions\")\n",
    "using Distributions  # precompile\n",
    "\n",
    "@everywhere using Distributions\n",
    "\n",
    "@everywhere println(rand(Normal()))"
   ],
   "metadata": {},
   "execution_count": null
  },
  {
   "outputs": [],
   "cell_type": "markdown",
   "source": [
    "## @spawn macro"
   ],
   "metadata": {}
  },
  {
   "outputs": [],
   "cell_type": "code",
   "source": [
    "a=@spawn randn(5,5)^2\n",
    "\n",
    "fetch(a)\n",
    "\n",
    "b=rand(5,5)\n",
    "\n",
    "a=@spawn b^2\n",
    "\n",
    "fetch(a)\n",
    "\n",
    "\n",
    "@time begin\n",
    "   A = rand(1000,1000)\n",
    "   Bref = @spawn A^2\n",
    "   fetch(Bref)\n",
    "end;\n",
    "\n",
    "@time begin\n",
    "   Bref = @spawn rand(1000,1000)^2\n",
    "   fetch(Bref)\n",
    "end;"
   ],
   "metadata": {},
   "execution_count": null
  },
  {
   "outputs": [],
   "cell_type": "markdown",
   "source": [
    "## @spawnat"
   ],
   "metadata": {}
  },
  {
   "outputs": [],
   "cell_type": "code",
   "source": [
    "r = remotecall(rand, 2, 2, 2)\n",
    "\n",
    "s = @spawnat 3 1 .+ fetch(r)\n",
    "\n",
    "fetch(s)"
   ],
   "metadata": {},
   "execution_count": null
  },
  {
   "outputs": [],
   "cell_type": "markdown",
   "source": [
    "## @parallel for"
   ],
   "metadata": {}
  },
  {
   "outputs": [],
   "cell_type": "code",
   "source": [
    "function serial_add()\n",
    "    s=0.0\n",
    "    for i = 1:1000000\n",
    "         s=s+randn()\n",
    "    end\n",
    "    return s\n",
    "end\n",
    "\n",
    "function parallel_add()\n",
    "    return @distributed (+) for i=1:1000000\n",
    "       randn()\n",
    "    end\n",
    "end\n",
    "\n",
    "@btime serial_add()\n",
    "\n",
    "@btime parallel_add()"
   ],
   "metadata": {},
   "execution_count": null
  },
  {
   "outputs": [],
   "cell_type": "markdown",
   "source": [
    "## Parallel map"
   ],
   "metadata": {}
  },
  {
   "outputs": [],
   "cell_type": "code",
   "source": [
    "x=[rand(100,100) for i in 1:10];\n",
    "\n",
    "@everywhere using LinearAlgebra\n",
    "\n",
    "@btime map(svd, x);\n",
    "\n",
    "@btime pmap(svd, x);"
   ],
   "metadata": {},
   "execution_count": null
  },
  {
   "outputs": [],
   "cell_type": "markdown",
   "source": [
    "## Distributed Monte Carlo"
   ],
   "metadata": {}
  },
  {
   "outputs": [],
   "cell_type": "code",
   "source": [
    "@everywhere function darts_in_circle(N)\n",
    "    n = 0\n",
    "    for i in 1:N\n",
    "        if rand()^2 + rand()^2 < 1\n",
    "            n += 1\n",
    "        end\n",
    "    end\n",
    "    return n\n",
    "end\n",
    "\n",
    "function pi_distributed(N, loops)\n",
    "    n = sum(pmap((x)->darts_in_circle(N), 1:loops))\n",
    "    4 * n / (loops * N)\n",
    "end\n",
    "\n",
    "function pi_serial(n)\n",
    "   return 4 * darts_in_circle(n) / n\n",
    "end\n",
    "\n",
    "\n",
    "@btime pi_distributed(1_000_000, 50)\n",
    "\n",
    "@btime pi_serial(50_000_000)"
   ],
   "metadata": {},
   "execution_count": null
  },
  {
   "outputs": [],
   "cell_type": "markdown",
   "source": [
    "## Distributed Arrays"
   ],
   "metadata": {}
  },
  {
   "outputs": [],
   "cell_type": "code",
   "source": [
    "using Pkg\n",
    "Pkg.add(\"DistributedArrays\")\n",
    "using DistributedArrays\n",
    "@everywhere using DistributedArrays\n",
    "d=dzeros(12, 12)\n",
    "x=rand(10,10);\n",
    "dx = distribute(x)\n",
    "\n",
    "@everywhere function par(I)\n",
    "    d=(size(I[1], 1), size(I[2], 1))\n",
    "    m = fill(myid(), d)\n",
    "    return m\n",
    "end\n",
    "\n",
    "\n",
    "m = DArray(par, (800, 800))\n",
    "\n",
    "d.indices\n",
    "\n",
    "r = @spawnat 2 localpart(d)\n",
    "\n",
    "\n",
    "fetch(r)\n",
    "\n",
    "\n",
    "@distributed (+) for i in 1:nworkers()\n",
    "   sum(localpart(m))\n",
    "end"
   ],
   "metadata": {},
   "execution_count": null
  },
  {
   "outputs": [],
   "cell_type": "markdown",
   "source": [
    "### Game of Life"
   ],
   "metadata": {}
  },
  {
   "outputs": [],
   "cell_type": "code",
   "source": [
    "function life_step(d::DArray)\n",
    "   DArray(size(d),procs(d)) do I\n",
    "      top = mod1(first(I[1])-1,size(d,1))  #outside edge\n",
    "      bot = mod1( last(I[1])+1,size(d,1))\n",
    "      left = mod1(first(I[2])-1,size(d,2))\n",
    "      right = mod1( last(I[2])+1,size(d,2))\n",
    "      old = Array{Bool}(undef, length(I[1])+2, length(I[2])+2) #temp array\n",
    "      old[1 , 1 ] = d[top , left]  #get from remote\n",
    "      old[2:end-1, 1 ] = d[I[1], left] # left\n",
    "      old[end , 1 ] = d[bot , left]\n",
    "      old[1 , end ] = d[top , right]\n",
    "      old[2:end-1, end ] = d[I[1], right] # right\n",
    "      old[end , end ] = d[bot , right]\n",
    "      old[1 , 2:end-1] = d[top , I[2]] # top\n",
    "      old[end , 2:end-1] = d[bot , I[2]] # bottom\n",
    "      old[2:end-1, 2:end-1] = d[I[1], I[2]] # middle (local)\n",
    "\n",
    "      life_rule(old) # Step!\n",
    "   end\n",
    "end\n",
    "\n",
    "@everywhere function life_rule(old)\n",
    "    m, n = size(old)\n",
    "    new = similar(old, m-2, n-2)\n",
    "    for j = 2:n-1\n",
    "        @inbounds for i = 2:m-1\n",
    "            nc = (+)(old[i-1,j-1], old[i-1,j], old[i-1,j+1],\n",
    "                     old[i ,j-1], old[i ,j+1],\n",
    "                     old[i+1,j-1], old[i+1,j], old[i+1,j+1])\n",
    "            new[i-1,j-1] = (nc == 3 || nc == 2 && old[i,j])\n",
    "        end\n",
    "    end\n",
    "    new\n",
    "end\n",
    "\n",
    "A = DArray(I->rand(Bool, length.(I)), (20,20))\n",
    "\n",
    "using Pkg; Pkg.add(\"Colors\")\n",
    "using Colors\n",
    "Gray.(A)\n",
    "\n",
    "B = copy(A)\n",
    "B = Gray.(life_step(B))"
   ],
   "metadata": {},
   "execution_count": null
  },
  {
   "outputs": [],
   "cell_type": "markdown",
   "source": [
    "# Shared Arrays"
   ],
   "metadata": {}
  },
  {
   "outputs": [],
   "cell_type": "code",
   "source": [
    "using SharedArrays\n",
    "S=SharedArray{Float64}((100, 100, 5), pids=[2,3, 4, 5]);\n",
    "\n",
    "\n",
    "pmap(x->S[x]=myid(), eachindex(S));\n",
    "\n",
    "S"
   ],
   "metadata": {},
   "execution_count": null
  },
  {
   "outputs": [],
   "cell_type": "markdown",
   "source": [
    "## Parallel Prefix sum"
   ],
   "metadata": {}
  },
  {
   "outputs": [],
   "cell_type": "code",
   "source": [
    "function prefix_shared!(y::SharedArray)\n",
    "    l=length(y)\n",
    "    k=ceil(Int, log2(l))\n",
    "    for j=1:k\n",
    "        @sync @distributed for i=2^j:2^j:min(l, 2^k)\n",
    "            @inbounds y[i] = y[i-2^(j-1)] + y[i]\n",
    "        end\n",
    "    end\n",
    "    for j=(k-1):-1:1\n",
    "        @sync @distributed for i=3*2^(j-1):2^j:min(l, 2^k)\n",
    "            @inbounds y[i] = y[i-2^(j-1)] + y[i]\n",
    "        end\n",
    "    end\n",
    "    y\n",
    "end"
   ],
   "metadata": {},
   "execution_count": null
  },
  {
   "outputs": [],
   "cell_type": "markdown",
   "source": [
    "*This notebook was generated using [Literate.jl](https://github.com/fredrikekre/Literate.jl).*"
   ],
   "metadata": {}
  }
 ],
 "nbformat_minor": 3,
 "metadata": {
  "language_info": {
   "file_extension": ".jl",
   "mimetype": "application/julia",
   "name": "julia",
   "version": "1.1.0"
  },
  "kernelspec": {
   "name": "julia-1.1",
   "display_name": "Julia 1.1.0",
   "language": "julia"
  }
 },
 "nbformat": 4
}
