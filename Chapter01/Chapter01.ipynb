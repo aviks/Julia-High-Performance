{
 "cells": [
  {
   "outputs": [
    {
     "name": "stdout",
     "output_type": "stream",
     "text": [
      "\t.section\t__TEXT,__text,regular,pure_instructions\n",
      "Filename: intfuncs.jl\n",
      "\tpushq\t%rbp\n",
      "\tmovq\t%rsp, %rbp\n",
      "Source line: 197\n",
      "\tcallq\tpower_by_squaring\n",
      "\tpopq\t%rbp\n",
      "\tretq\n",
      "Source line: 197\n",
      "\tnopl\t(%rax,%rax)\n",
      "\t.section\t__TEXT,__text,regular,pure_instructions\n",
      "Filename: math.jl\n",
      "\tpushq\t%rbp\n",
      "\tmovq\t%rsp, %rbp\n",
      "Source line: 701\n",
      "\tsubq\t$16, %rsp\n",
      "\tvmovsd\t%xmm0, -16(%rbp)\n",
      "\tvxorps\t%xmm1, %xmm1, %xmm1\n",
      "\tvcvtsi2sdq\t%rdi, %xmm1, %xmm1\n",
      "Source line: 699\n",
      "\tvmovsd\t%xmm1, -8(%rbp)\n",
      "\tcallq\tjlcall_mapfoldl_impl_35198\n",
      "\tvmovsd\t-8(%rbp), %xmm1         ## xmm1 = mem[0],zero\n",
      "\tvaddsd\t-16(%rbp), %xmm1, %xmm1\n",
      "Source line: 300\n",
      "\tvucomisd\t%xmm1, %xmm1\n",
      "\tjp\tL54\n",
      "\tvucomisd\t%xmm0, %xmm0\n",
      "\tjp\tL60\n",
      "Source line: 701\n",
      "L54:\n",
      "\taddq\t$16, %rsp\n",
      "\tpopq\t%rbp\n",
      "\tretq\n",
      "Source line: 300\n",
      "L60:\n",
      "\tmovq\t28400877(%rip), %rax\n",
      "\tmovq\t(%rax), %rdi\n",
      "\tcallq\tjlcall_mapfoldl_impl_35198\n",
      "Source line: 300\n",
      "\tnopl\t(%rax,%rax)\n"
     ]
    }
   ],
   "cell_type": "code",
   "source": [
    "# # Chapter 1\n",
    "\n",
    "# ### Inspect the generated code for the power function.\n",
    "\n",
    "# For integers:\n",
    "@code_native 3^2\n",
    "\n",
    "# And for floats\n",
    "@code_native 3.5^2"
   ],
   "metadata": {},
   "execution_count": 1
  },
  {
   "outputs": [],
   "cell_type": "markdown",
   "source": [
    "*This notebook was generated using [Literate.jl](https://github.com/fredrikekre/Literate.jl).*"
   ],
   "metadata": {}
  }
 ],
 "nbformat_minor": 3,
 "metadata": {
  "language_info": {
   "file_extension": ".jl",
   "mimetype": "application/julia",
   "name": "julia",
   "version": "0.6.4-pre.0"
  },
  "kernelspec": {
   "name": "julia-0.6",
   "display_name": "Julia 0.6.4-pre.0",
   "language": "julia"
  }
 },
 "nbformat": 4
}
