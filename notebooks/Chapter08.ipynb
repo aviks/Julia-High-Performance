{
 "cells": [
  {
   "outputs": [],
   "cell_type": "code",
   "source": [
    "using BenchmarkTools\n",
    "\n",
    "for i in 1:5\n",
    "    sleep(1)\n",
    "end\n",
    "\n",
    "@time for i in 1:5\n",
    "    sleep(1)\n",
    "end\n",
    "\n",
    "@time for i in 1:5\n",
    "    @async sleep(1)\n",
    "end\n",
    "\n",
    "\n",
    "@time @sync for i in 1:5\n",
    "    @async sleep(1)\n",
    "end\n",
    "\n",
    "@time for i in 1:50\n",
    "    sin.(rand(1000, 1000))\n",
    "end\n",
    "\n",
    "@time @sync for i in 1:50\n",
    "    @async sin.(rand(1000, 1000))\n",
    "end\n",
    "\n",
    "@time @sync for i in 1:5\n",
    "    @async ccall((\"sleep\", :libc), Cint, (Cint, ), 1)\n",
    "end"
   ],
   "metadata": {},
   "execution_count": null
  },
  {
   "outputs": [],
   "cell_type": "markdown",
   "source": [
    "## Task Lifecycle"
   ],
   "metadata": {}
  },
  {
   "outputs": [],
   "cell_type": "code",
   "source": [
    "t=Task(()->println(\"Hello from tasks\"))\n",
    "\n",
    "schedule(t)\n",
    "\n",
    "istaskstarted(t)\n",
    "\n",
    "istaskdone(t)\n",
    "\n",
    "istaskstarted(t)\n",
    "\n",
    "current_task()\n",
    "\n",
    "t == current_task()"
   ],
   "metadata": {},
   "execution_count": null
  },
  {
   "outputs": [],
   "cell_type": "markdown",
   "source": [
    "## Task local storage"
   ],
   "metadata": {}
  },
  {
   "outputs": [],
   "cell_type": "code",
   "source": [
    "task_local_storage(\"x\", 1)\n",
    "\n",
    "task_local_storage(\"x\") == 1"
   ],
   "metadata": {},
   "execution_count": null
  },
  {
   "outputs": [],
   "cell_type": "markdown",
   "source": [
    "# Communicating between tasks"
   ],
   "metadata": {}
  },
  {
   "outputs": [],
   "cell_type": "code",
   "source": [
    "c = Channel{Int}(10)\n",
    "\n",
    "function producer(c::Channel)\n",
    "   put!(c, \"start\")\n",
    "   for n=1:4\n",
    "      put!(c, 2n)\n",
    "   end\n",
    "   put!(c, \"stop\")\n",
    "end\n",
    "\n",
    "chnl = Channel(producer)\n",
    "\n",
    "take!(chnl)\n",
    "take!(chnl)\n",
    "take!(chnl)\n",
    "take!(chnl)\n",
    "take!(chnl)\n",
    "take!(chnl)"
   ],
   "metadata": {},
   "execution_count": null
  },
  {
   "outputs": [],
   "cell_type": "markdown",
   "source": [
    "## Task Iteration"
   ],
   "metadata": {}
  },
  {
   "outputs": [],
   "cell_type": "code",
   "source": [
    "chnl = Channel(producer)\n",
    "for i in chnl\n",
    "    @show i\n",
    "end\n",
    "\n",
    "function consume(c)\n",
    "   println(\"Starting Channel iteration\")\n",
    "   for i in c\n",
    "       println(\"Got $i from Channel\")\n",
    "   end\n",
    "   println(\"Channel iteration is complete\")\n",
    "end\n",
    "\n",
    "chnl = Channel(1)\n",
    "\n",
    "@async consume(chnl)\n",
    "\n",
    "put!(chnl, 1)\n",
    "\n",
    "put!(chnl, 2)\n",
    "\n",
    "close(chnl)\n",
    "\n",
    "using Pkg\n",
    "Pkg.add(\"Mux\")\n",
    "\n",
    "using Mux\n",
    "@app basicapp = (\n",
    "         Mux.defaults,\n",
    "         page(\"/\", respond(\"<h1>Hello World!</h1>\")),\n",
    "         Mux.notfound())\n",
    "\n",
    "serve(basicapp; reuseaddr=true)"
   ],
   "metadata": {},
   "execution_count": null
  },
  {
   "outputs": [],
   "cell_type": "markdown",
   "source": [
    "*This notebook was generated using [Literate.jl](https://github.com/fredrikekre/Literate.jl).*"
   ],
   "metadata": {}
  }
 ],
 "nbformat_minor": 3,
 "metadata": {
  "language_info": {
   "file_extension": ".jl",
   "mimetype": "application/julia",
   "name": "julia",
   "version": "1.1.0"
  },
  "kernelspec": {
   "name": "julia-1.1",
   "display_name": "Julia 1.1.0",
   "language": "julia"
  }
 },
 "nbformat": 4
}
