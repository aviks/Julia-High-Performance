{
 "cells": [
  {
   "outputs": [],
   "cell_type": "markdown",
   "source": [
    "Chapter 6"
   ],
   "metadata": {}
  },
  {
   "outputs": [],
   "cell_type": "code",
   "source": [
    "using BenchmarkTools"
   ],
   "metadata": {},
   "execution_count": null
  },
  {
   "outputs": [],
   "cell_type": "markdown",
   "source": [
    "#Array Internals"
   ],
   "metadata": {}
  },
  {
   "outputs": [],
   "cell_type": "markdown",
   "source": [
    "## Column wise storage"
   ],
   "metadata": {}
  },
  {
   "outputs": [],
   "cell_type": "code",
   "source": [
    "function col_iter(x)\n",
    "    s=zero(eltype(x))\n",
    "    for i = 1:size(x, 2)\n",
    "       for j = 1:size(x, 1)\n",
    "          s = s + x[j, i] ^ 2\n",
    "          x[j, i] = s\n",
    "       end\n",
    "    end\n",
    "end\n",
    "\n",
    "function row_iter(x)\n",
    "   s=zero(eltype(x))\n",
    "   for i = 1:size(x, 1)\n",
    "      for j = 1:size(x, 2)\n",
    "       s = s + x[i, j] ^ 2\n",
    "         x[i, j] = s\n",
    "      end\n",
    "   end\n",
    "end\n",
    "\n",
    "a = rand(1000, 1000);\n",
    "\n",
    "@btime col_iter($a)\n",
    "\n",
    "@btime row_iter($a)"
   ],
   "metadata": {},
   "execution_count": null
  },
  {
   "outputs": [],
   "cell_type": "markdown",
   "source": [
    "### Adjoints"
   ],
   "metadata": {}
  },
  {
   "outputs": [],
   "cell_type": "code",
   "source": [
    "a = rand(1000, 1000);\n",
    "\n",
    "b=a'\n",
    "\n",
    "@btime col_iter($b)\n",
    "\n",
    "@btime row_iter($b)"
   ],
   "metadata": {},
   "execution_count": null
  },
  {
   "outputs": [],
   "cell_type": "markdown",
   "source": [
    "## Array initialization"
   ],
   "metadata": {}
  },
  {
   "outputs": [],
   "cell_type": "code",
   "source": [
    "a = fill(1, 4, 4)\n",
    "\n",
    "@btime fill(1, 1000, 1000);\n",
    "\n",
    "@btime Array{Int64}(undef, 1000, 1000);\n",
    "\n",
    "a=Array{Int}(undef, 2, 2)\n",
    "\n",
    "b=Array{String}(undef, 2, 2)\n",
    "\n",
    "b[1,1]  # Will throw UndefRefError\n",
    "\n",
    "# Bounds Checking\n",
    "\n",
    "function prefix_bounds(a, b)\n",
    "  for i in 2:size(a, 1)\n",
    "        a[i] = b[i-1] + b[i]\n",
    "  end\n",
    "end\n",
    "\n",
    "\n",
    "function prefix_inbounds(a, b)\n",
    "    @inbounds for i in 2:size(a, 1)\n",
    "         a[i] = b[i-1] + b[i]\n",
    "    end\n",
    "end\n",
    "\n",
    "a=zeros(Float64, 1000);\n",
    "\n",
    "b=rand(1000);\n",
    "\n",
    "@btime prefix_bounds($a, $b)\n",
    "\n",
    "@btime prefix_inbounds($a, $b)"
   ],
   "metadata": {},
   "execution_count": null
  },
  {
   "outputs": [],
   "cell_type": "markdown",
   "source": [
    "# In place operations"
   ],
   "metadata": {}
  },
  {
   "outputs": [],
   "cell_type": "code",
   "source": [
    "function xpow(x)\n",
    "   return [x x^2 x^3 x^4]\n",
    "end\n",
    "\n",
    "function xpow_loop(n)\n",
    "    s = 0\n",
    "    for i = 1:n\n",
    "      s = s + xpow(i)[2]\n",
    "    end\n",
    "   return s\n",
    "end\n",
    "\n",
    "@btime xpow_loop($1000000)"
   ],
   "metadata": {},
   "execution_count": null
  },
  {
   "outputs": [],
   "cell_type": "markdown",
   "source": [
    "## Preallocating function output"
   ],
   "metadata": {}
  },
  {
   "outputs": [],
   "cell_type": "code",
   "source": [
    "function xpow!(result::Array{Int, 1}, x)\n",
    "    @assert length(result) == 4\n",
    "    result[1] = x\n",
    "    result[2] = x^2\n",
    "    result[3] = x^3\n",
    "    result[4] = x^4\n",
    "end\n",
    "\n",
    "function xpow_loop_noalloc(n)\n",
    "    r = [0, 0, 0, 0]\n",
    "    s = 0\n",
    "    for i = 1:n\n",
    "       xpow!(r, i)\n",
    "       s = s + r[2]\n",
    "    end\n",
    "    s\n",
    "end\n",
    "@btime xpow_loop_noalloc($1000000)\n",
    "\n",
    "@time xpow_loop(1_000_000)\n",
    "\n",
    "@time xpow_loop_noalloc(1_000_000)\n",
    "\n",
    "@btime sort(a);\n",
    "@btime sort!(a);"
   ],
   "metadata": {},
   "execution_count": null
  },
  {
   "outputs": [],
   "cell_type": "markdown",
   "source": [
    "## Mutating FUnctions"
   ],
   "metadata": {}
  },
  {
   "outputs": [],
   "cell_type": "code",
   "source": [
    "@btime sort(a);\n",
    "\n",
    "@btime sort!(a);"
   ],
   "metadata": {},
   "execution_count": null
  },
  {
   "outputs": [],
   "cell_type": "markdown",
   "source": [
    "# Broadcasting"
   ],
   "metadata": {}
  },
  {
   "outputs": [],
   "cell_type": "code",
   "source": [
    "a=collect(1:4);\n",
    "\n",
    "sqrt.(a)\n",
    "\n",
    "b=reshape( 1:8, 4, 2)\n",
    "\n",
    "b .+ a\n",
    "\n",
    "a = collect(1:10);\n",
    "\n",
    "b = fill(0.0, 10);\n",
    "\n",
    "b .= cos.(sin.(a))\n",
    "\n",
    "@time b .= cos.(sin.(a));\n",
    "\n",
    "@btime c = cos.(sin.(a));"
   ],
   "metadata": {},
   "execution_count": null
  },
  {
   "outputs": [],
   "cell_type": "markdown",
   "source": [
    "# Array Views"
   ],
   "metadata": {}
  },
  {
   "outputs": [],
   "cell_type": "code",
   "source": [
    "function sum_vector(x::Array{Float64, 1})\n",
    "   s = zero(eltype(x))\n",
    "   for i in 1:length(x)\n",
    "      s = s + x[i]\n",
    "   end\n",
    "   return s\n",
    "end\n",
    "\n",
    "function sum_cols_matrix(x::Array{Float64, 2})\n",
    "   num_cols = size(x, 2)\n",
    "   s = zeros(num_cols)\n",
    "   for i = 1:num_cols\n",
    "     s[i] = sum_vector(x[:, i])\n",
    "   end\n",
    "   return s\n",
    "end\n",
    "\n",
    "a = rand(1000, 1000)\n",
    "\n",
    "@benchmark sum_cols_matrix($a)\n",
    "\n",
    "function sum_vector(x::AbstractArray)\n",
    "   s = zero(eltype(x))\n",
    "   for i in 1:length(x)\n",
    "      s = s + x[i]\n",
    "   end\n",
    "   return s\n",
    "end\n",
    "\n",
    "function sum_cols_matrix_views(x::Array{Float64, 2})\n",
    "   num_cols = size(x, 2); num_rows = size(x, 1)\n",
    "   s = zeros(num_cols)\n",
    "   for i = 1:num_cols\n",
    "     s[i] = sum_vector(@view(x[:, i]))\n",
    "   end\n",
    "   return s\n",
    "end\n",
    "\n",
    "@benchmark sum_cols_matrix_views($a)"
   ],
   "metadata": {},
   "execution_count": null
  },
  {
   "outputs": [],
   "cell_type": "markdown",
   "source": [
    "# SIMD Parallelization"
   ],
   "metadata": {}
  },
  {
   "outputs": [],
   "cell_type": "code",
   "source": [
    "function sum_vectors!(x, y, z)\n",
    "    n = length(x)\n",
    "    for i in 1:n\n",
    "        x[i] = y[i] + z[i]\n",
    "    end\n",
    "end\n",
    "\n",
    "\n",
    "function sum_vectors_simd!(x, y, z)\n",
    "    n = length(x)\n",
    "    @inbounds @simd for i in 1:n\n",
    "          x[i] = y[i] + z[i]\n",
    "    end\n",
    "end\n",
    "\n",
    "a=zeros(Float32, 1_000_000);\n",
    "b= rand(Float32, 1_000_000);\n",
    "c= rand(Float32, 1_000_000);\n",
    "\n",
    "\n",
    "@btime sum_vectors!($a, $b, $c)\n",
    "\n",
    "@btime sum_vectors_simd!($a, $b, $c)\n",
    "\n",
    "@code_llvm sum_vectors_simd!(a, b, c)\n",
    "\n",
    "@code_native sum_vectors_simd!(a, b, c)"
   ],
   "metadata": {},
   "execution_count": null
  },
  {
   "outputs": [],
   "cell_type": "markdown",
   "source": [
    "## SIMD.jl"
   ],
   "metadata": {}
  },
  {
   "outputs": [],
   "cell_type": "code",
   "source": [
    "using Pkg\n",
    "Pkg.add(\"SIMD\")\n",
    "\n",
    "using SIMD\n",
    "\n",
    "a=Vec{4, Float64}((1.0, 2.0, 3.0, 4.0))\n",
    "\n",
    "@btime sum($a)\n",
    "\n",
    "@code_native sum(a)\n",
    "\n",
    "b=[1.,2.,3.,4.]\n",
    "\n",
    "function naive_sum(x::Vector{Float64})\n",
    "  s = 0.0\n",
    "  for i=1:length(x)\n",
    "     s=s+x[i]\n",
    "  end\n",
    "  return s\n",
    "end\n",
    "\n",
    "@btime naive_sum($b)\n",
    "\n",
    "function vadd!(xs::Vector{T}, ys::Vector{T}, ::Type{Vec{N,T}}) where {N, T}\n",
    "    @assert length(ys) == length(xs)\n",
    "    @assert length(xs) % N == 0\n",
    "    lane = VecRange{N}(0)\n",
    "    @inbounds for i in 1:N:length(xs)\n",
    "        xs[lane + i] += ys[lane + i]\n",
    "    end\n",
    "end"
   ],
   "metadata": {},
   "execution_count": null
  },
  {
   "outputs": [],
   "cell_type": "markdown",
   "source": [
    "# Specialised Array Types"
   ],
   "metadata": {}
  },
  {
   "outputs": [],
   "cell_type": "markdown",
   "source": [
    "## Static Arrays"
   ],
   "metadata": {}
  },
  {
   "outputs": [],
   "cell_type": "code",
   "source": [
    "using Pkg\n",
    "Pkg.add(\"StaticArrays\")\n",
    "\n",
    "using StaticArrays\n",
    "a=SVector(1, 2, 3, 4)\n",
    "b = @SVector [3, 4, 5, 6]\n",
    "\n",
    "c=[1,2,3,4];\n",
    "\n",
    "@btime $c*$c'\n",
    "\n",
    "@btime $a*$a'\n",
    "\n",
    "@btime $(Ref(a))[] * $(Ref(a'))[]"
   ],
   "metadata": {},
   "execution_count": null
  },
  {
   "outputs": [],
   "cell_type": "markdown",
   "source": [
    "## Struct Of Arrays"
   ],
   "metadata": {}
  },
  {
   "outputs": [],
   "cell_type": "code",
   "source": [
    "using Pkg\n",
    "Pkg.add(\"StructArrays\")\n",
    "using StructArrays\n",
    "\n",
    "a=Complex.(rand(1000000), rand(1000000))\n",
    "\n",
    "b = StructArray(a)\n",
    "\n",
    "c = StructArray(i + 2*i*im for i in 1:10)\n",
    "\n",
    "d = StructArray{ComplexF64}(undef, 10)\n",
    "\n",
    "using Random\n",
    "Random.rand!(d)\n",
    "\n",
    "d.re\n",
    "\n",
    "d[5]\n",
    "\n",
    "typeof(d[5])\n",
    "\n",
    "function accum(x, z)\n",
    "   s = zero(eltype(x))\n",
    "   @simd for i in 1:length(x)\n",
    "       @inbounds s += x[i] * z\n",
    "   end\n",
    "   s\n",
    "end\n",
    "\n",
    "@btime accum($a, 1.5 + 2.5im)\n",
    "\n",
    "@btime accum($b, 1.5 + 2.5im)"
   ],
   "metadata": {},
   "execution_count": null
  },
  {
   "outputs": [],
   "cell_type": "markdown",
   "source": [
    "# Yeppp"
   ],
   "metadata": {}
  },
  {
   "outputs": [],
   "cell_type": "code",
   "source": [
    "using Pkg\n",
    "Pkg.add(\"Yeppp\")\n",
    "\n",
    "using Yeppp\n",
    "a=rand(1_000_000);\n",
    "\n",
    "@btime log.($a);\n",
    "\n",
    "@btime Yeppp.log($a)\n",
    "\n",
    "@btime Yeppp.log!($a)"
   ],
   "metadata": {},
   "execution_count": null
  },
  {
   "outputs": [],
   "cell_type": "markdown",
   "source": [
    "# Generic array functions"
   ],
   "metadata": {}
  },
  {
   "outputs": [],
   "cell_type": "code",
   "source": [
    "function mysum_linear(a::AbstractArray)\n",
    "    s=zero(eltype(a))\n",
    "    for i in 1:length(a)\n",
    "        s=s + a[i]\n",
    "    end\n",
    "    return s\n",
    "end\n",
    "\n",
    "mysum_linear(1:1000000)\n",
    "\n",
    "mysum_linear(reshape(1:1000000, 100, 100, 100))\n",
    "\n",
    "mysum_linear(reshape(1:1000000, 1000, 1000))\n",
    "\n",
    "mysum_linear(@view reshape(1:1000000, 1000, 1000)[1:500, 1:500] )\n",
    "\n",
    "@btime mysum_linear(reshape(1:1000000, 1000, 1000))\n",
    "\n",
    "@btime mysum_linear(@view reshape(1:1000000, 1000, 1000)[1:500, 1:500] )\n",
    "\n",
    "function mysum_in(a::AbstractArray)\n",
    "   s = zero(eltype(a))\n",
    "   for i in a\n",
    "      s = s + i\n",
    "   end\n",
    "end\n",
    "\n",
    "@btime mysum_in(@view reshape(1:1000000, 1000, 1000)[1:500, 1:500] )\n",
    "\n",
    "function mysum_eachindex(a::AbstractArray)\n",
    "    s = zero(eltype(a))\n",
    "    for i in eachindex(a)\n",
    "        s = s + a[i]\n",
    "    end\n",
    "end\n",
    "\n",
    "@btime mysum_eachindex(@view reshape(1:1000000, 1000, 1000)[1:500, 1:500] )"
   ],
   "metadata": {},
   "execution_count": null
  },
  {
   "outputs": [],
   "cell_type": "markdown",
   "source": [
    "*This notebook was generated using [Literate.jl](https://github.com/fredrikekre/Literate.jl).*"
   ],
   "metadata": {}
  }
 ],
 "nbformat_minor": 3,
 "metadata": {
  "language_info": {
   "file_extension": ".jl",
   "mimetype": "application/julia",
   "name": "julia",
   "version": "1.1.0"
  },
  "kernelspec": {
   "name": "julia-1.1",
   "display_name": "Julia 1.1.0",
   "language": "julia"
  }
 },
 "nbformat": 4
}
