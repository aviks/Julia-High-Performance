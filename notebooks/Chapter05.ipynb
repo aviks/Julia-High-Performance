{
 "cells": [
  {
   "outputs": [],
   "cell_type": "markdown",
   "source": [
    "# Chapter 5"
   ],
   "metadata": {}
  },
  {
   "outputs": [],
   "cell_type": "code",
   "source": [
    "using BenchmarkTools\n",
    "\n",
    "Sys.WORD_SIZE\n",
    "\n",
    "bitstring(3)\n",
    "\n",
    "bitstring(-3)\n",
    "\n",
    "isbitstype(Int64)\n",
    "\n",
    "isbitstype(String)\n",
    "\n",
    "\n",
    "myadd(x, y) = x + y\n",
    "@code_native myadd(1,2)\n",
    "\n",
    "\n",
    "typemax(Int64)\n",
    "\n",
    "\n",
    "bitstring(typemax(Int32))\n",
    "\n",
    "\n",
    "typemin(Int64)\n",
    "\n",
    "bitstring(typemin(Int32))\n",
    "\n",
    "9223372036854775806 + 1\n",
    "\n",
    "9223372036854775806 + 1 + 1\n",
    "\n",
    "2^62\n",
    "\n",
    "2^63\n",
    "\n",
    "2^64\n",
    "\n",
    "2^65"
   ],
   "metadata": {},
   "execution_count": null
  },
  {
   "outputs": [],
   "cell_type": "markdown",
   "source": [
    "##BigInt"
   ],
   "metadata": {}
  },
  {
   "outputs": [],
   "cell_type": "code",
   "source": [
    "big(9223372036854775806) + 1 + 1\n",
    "\n",
    "big(2)^64\n",
    "\n",
    "x = rand(Int32)\n",
    "\n",
    "y = rand(Int32)\n",
    "\n",
    "@btime $(BigInt(y)) * $(BigInt(x)) ;\n",
    "\n",
    "@btime $(Int64(y)) * $(Int64(x)) ;\n",
    "\n",
    "@btime $(Int128(y)) * $(Int128(x)) ;\n",
    "\n",
    "@btime $(Int32(y)) * $(Int32(x)) ;"
   ],
   "metadata": {},
   "execution_count": null
  },
  {
   "outputs": [],
   "cell_type": "markdown",
   "source": [
    "## Floating Point"
   ],
   "metadata": {}
  },
  {
   "outputs": [],
   "cell_type": "code",
   "source": [
    "bitstring(2.5)\n",
    "bitstring(-2.5)\n",
    "\n",
    "function floatbits(x::Float64)\n",
    "   b = bitstring(x)\n",
    "   b[1:1]*\"|\"*b[2:12]*\"|\"*b[13:end]\n",
    "end\n",
    "\n",
    "floatbits(2.5)\n",
    "\n",
    "floatbits(-2.5)"
   ],
   "metadata": {},
   "execution_count": null
  },
  {
   "outputs": [],
   "cell_type": "markdown",
   "source": [
    "## Floating point accuracy"
   ],
   "metadata": {}
  },
  {
   "outputs": [],
   "cell_type": "code",
   "source": [
    "0.1 > 1//10\n",
    "\n",
    "\n",
    "Rational(0.1)\n",
    "\n",
    "float(big(Rational(0.1)))\n",
    "\n",
    "bitstring(0.10000000000000001) == bitstring(0.1)\n",
    "\n",
    "eps(0.1)\n",
    "\n",
    "nextfloat(0.1)\n",
    "\n",
    "floatbits(0.1)\n",
    "\n",
    "floatbits(nextfloat(0.1))"
   ],
   "metadata": {},
   "execution_count": null
  },
  {
   "outputs": [],
   "cell_type": "markdown",
   "source": [
    "## Unsigned Integers"
   ],
   "metadata": {}
  },
  {
   "outputs": [],
   "cell_type": "code",
   "source": [
    "UInt64(1)\n",
    "\n",
    "UInt32(4294967297)   # throws InexactError\n",
    "\n",
    "4294967297 % UInt32\n",
    "\n",
    "@btime UInt32(1)\n",
    "\n",
    "@btime 1 % UInt32"
   ],
   "metadata": {},
   "execution_count": null
  },
  {
   "outputs": [],
   "cell_type": "markdown",
   "source": [
    "## FastMath"
   ],
   "metadata": {}
  },
  {
   "outputs": [],
   "cell_type": "code",
   "source": [
    "function sum_diff(x)\n",
    "    n = length(x); d = 1/(n-1)\n",
    "    s = zero(eltype(x))\n",
    "    s = s +  (x[2] - x[1]) / d\n",
    "    for i = 2:length(x)-1\n",
    "        s =  s + (x[i+1] - x[i+1]) / (2*d)\n",
    "    end\n",
    "    s = s + (x[n] - x[n-1])/d\n",
    "end\n",
    "\n",
    "function sum_diff_fast(x)\n",
    "    n=length(x); d = 1/(n-1)\n",
    "    s = zero(eltype(x))\n",
    "    @fastmath s = s +  (x[2] - x[1]) / d\n",
    "    @fastmath for i = 2:n-1\n",
    "        s =  s + (x[i+1] - x[i+1]) / (2*d)\n",
    "    end\n",
    "    @fastmath s = s + (x[n] - x[n-1])/d\n",
    "end\n",
    "\n",
    "t=rand(2000);\n",
    "@btime sum_diff($t)\n",
    "\n",
    "@btime sum_diff_fast($t)\n",
    "\n",
    "macroexpand(Main, :(@fastmath a + b / c))\n",
    "\n",
    "half_fast(x) = @fastmath 0.5*x\n",
    "\n",
    "double_fast(x) = @fastmath 2.0*x\n",
    "\n",
    "const c_fast = (half_fast ∘ double_fast)\n",
    "\n",
    "@code_llvm c_fast(0.0)\n",
    "\n",
    "half(x) = 0.5*x\n",
    "double(x) = 2*x\n",
    "c(x) = half(double(x))\n",
    "\n",
    "@code_llvm c(0.0)"
   ],
   "metadata": {},
   "execution_count": null
  },
  {
   "outputs": [],
   "cell_type": "markdown",
   "source": [
    "## KBN Summation"
   ],
   "metadata": {}
  },
  {
   "outputs": [],
   "cell_type": "code",
   "source": [
    "t=[1, -1, 1e-100];\n",
    "\n",
    "sum(t)\n",
    "\n",
    "using Pkg\n",
    "Pkg.add(\"KahanSummation\")\n",
    "using KahanSummation\n",
    "\n",
    "sum_kbn(t)\n",
    "\n",
    "\n",
    "@btime sum($t)\n",
    "\n",
    "\n",
    "@btime sum_kbn($t)"
   ],
   "metadata": {},
   "execution_count": null
  },
  {
   "outputs": [],
   "cell_type": "markdown",
   "source": [
    "## Subnormal numbers"
   ],
   "metadata": {}
  },
  {
   "outputs": [],
   "cell_type": "code",
   "source": [
    "issubnormal(1.0)\n",
    "\n",
    "issubnormal(1.0e-308)\n",
    "\n",
    "3e-308 - 3.001e-308\n",
    "\n",
    "issubnormal(3e-308 - 3.001e-308)\n",
    "\n",
    "set_zero_subnormals(true)\n",
    "\n",
    "\n",
    "3e-308 - 3.001e-308\n",
    "\n",
    "3e-308 == 3.001e-308\n",
    "\n",
    "get_zero_subnormals()\n",
    "\n",
    "function timestep( b, a, dt )\n",
    "    n = length(b)\n",
    "    b[1] = 1\n",
    "    two = eltype(b)(2)\n",
    "    for i=2:n-1\n",
    "        b[i] = a[i] + (a[i-1] - two*a[i] + a[i+1]) * dt\n",
    "    end\n",
    "    b[n] = 0\n",
    "end\n",
    "\n",
    "function heatflow( a, nstep )\n",
    "    b = similar(a)\n",
    "    o = eltype(a)(0.1)\n",
    "    for t=1:div(nstep,2)\n",
    "        timestep(b,a,o)\n",
    "        timestep(a,b,o)\n",
    "    end\n",
    "end\n",
    "\n",
    "set_zero_subnormals(false)\n",
    "\n",
    "t=rand(1000);\n",
    "\n",
    "@btime heatflow($t, 1000)\n",
    "\n",
    "set_zero_subnormals(true)\n",
    "\n",
    "@btime heatflow($t, 1000)"
   ],
   "metadata": {},
   "execution_count": null
  },
  {
   "outputs": [],
   "cell_type": "markdown",
   "source": [
    "*This notebook was generated using [Literate.jl](https://github.com/fredrikekre/Literate.jl).*"
   ],
   "metadata": {}
  }
 ],
 "nbformat_minor": 3,
 "metadata": {
  "language_info": {
   "file_extension": ".jl",
   "mimetype": "application/julia",
   "name": "julia",
   "version": "1.1.0"
  },
  "kernelspec": {
   "name": "julia-1.1",
   "display_name": "Julia 1.1.0",
   "language": "julia"
  }
 },
 "nbformat": 4
}
